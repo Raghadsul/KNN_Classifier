{
 "cells": [
  {
   "cell_type": "markdown",
   "metadata": {},
   "source": [
    "# K-Nearest Neighbors Classifier\n",
    "Building a K-Nearest Neighbors classifier by implementing K-Nearest Neighbors algorithm using diabetes dataset."
   ]
  },
  {
   "cell_type": "code",
   "execution_count": 1,
   "metadata": {},
   "outputs": [],
   "source": [
    "import numpy as np \n",
    "import pandas as pd\n",
    "\n",
    "from sklearn.model_selection import train_test_split\n",
    "from sklearn.preprocessing import StandardScaler\n",
    "from sklearn.neighbors import KNeighborsClassifier\n",
    "from sklearn.metrics import accuracy_score\n",
    "from sklearn.metrics import classification_report"
   ]
  },
  {
   "cell_type": "markdown",
   "metadata": {},
   "source": [
    "### Load the dataset from CSV file"
   ]
  },
  {
   "cell_type": "code",
   "execution_count": 2,
   "metadata": {},
   "outputs": [],
   "source": [
    "def loadCSV(filename):\n",
    "    dataset = pd.read_csv(filename)\n",
    "    return dataset"
   ]
  },
  {
   "cell_type": "markdown",
   "metadata": {},
   "source": [
    "### Splite dataset into training and testing"
   ]
  },
  {
   "cell_type": "code",
   "execution_count": 3,
   "metadata": {},
   "outputs": [],
   "source": [
    "def spliteDataset(dataset):\n",
    "    X = dataset.iloc[:, 0:8]\n",
    "    y = dataset.iloc[:, 8]\n",
    "    X_train, X_test, y_train, y_test = train_test_split(X, y, random_state=0, test_size=0.2)\n",
    "    return X_train, X_test, y_train, y_test"
   ]
  },
  {
   "cell_type": "markdown",
   "metadata": {},
   "source": [
    "### Normalize train and test datasets"
   ]
  },
  {
   "cell_type": "code",
   "execution_count": 4,
   "metadata": {},
   "outputs": [],
   "source": [
    "def fitDataset(sc_X, X_train, X_test):\n",
    "    X_train = sc_X.fit_transform(X_train)\n",
    "    X_test = sc_X.transform(X_test)\n",
    "    return X_train, X_test"
   ]
  },
  {
   "cell_type": "markdown",
   "metadata": {},
   "source": [
    "### Generate a model and train the data"
   ]
  },
  {
   "cell_type": "code",
   "execution_count": 5,
   "metadata": {},
   "outputs": [],
   "source": [
    "def KNN(num, X_train, y_train):\n",
    "    classifier = KNeighborsClassifier(n_neighbors=num, p=1, metric='euclidean')\n",
    "    classifier.fit(X_train, y_train)\n",
    "    return classifier"
   ]
  },
  {
   "cell_type": "markdown",
   "metadata": {},
   "source": [
    "### Test the algorithm on test dataset"
   ]
  },
  {
   "cell_type": "code",
   "execution_count": 6,
   "metadata": {},
   "outputs": [],
   "source": [
    "def predict(classifier, X_test):\n",
    "    y_pred = classifier.predict(X_test)\n",
    "    return y_pred"
   ]
  },
  {
   "cell_type": "markdown",
   "metadata": {},
   "source": [
    "### Report the accuracy, precision, and recall"
   ]
  },
  {
   "cell_type": "code",
   "execution_count": 7,
   "metadata": {},
   "outputs": [],
   "source": [
    "def main():\n",
    "    filename = 'datasets/diabetes_csv.csv'\n",
    "    dataset = loadCSV(filename)\n",
    "    X_train, X_test, y_train, y_test = spliteDataset(dataset)\n",
    "    X_train, X_test = fitDataset(StandardScaler(), X_train, X_test)\n",
    "    num = [1, 3, 5, 10]\n",
    "    for i in num:\n",
    "        classifier = KNN(i, X_train, y_train)\n",
    "        y_pred = predict(classifier, X_test)\n",
    "        print('Accuracy ',i,' score: ', accuracy_score(y_test, y_pred))\n",
    "        print(classification_report(y_test, y_pred))"
   ]
  },
  {
   "cell_type": "code",
   "execution_count": 8,
   "metadata": {},
   "outputs": [
    {
     "name": "stdout",
     "output_type": "stream",
     "text": [
      "Accuracy  1  score:  0.7337662337662337\n",
      "                 precision    recall  f1-score   support\n",
      "\n",
      "tested_negative       0.79      0.84      0.81       107\n",
      "tested_positive       0.57      0.49      0.53        47\n",
      "\n",
      "       accuracy                           0.73       154\n",
      "      macro avg       0.68      0.67      0.67       154\n",
      "   weighted avg       0.72      0.73      0.73       154\n",
      "\n",
      "Accuracy  3  score:  0.7402597402597403\n",
      "                 precision    recall  f1-score   support\n",
      "\n",
      "tested_negative       0.81      0.82      0.81       107\n",
      "tested_positive       0.58      0.55      0.57        47\n",
      "\n",
      "       accuracy                           0.74       154\n",
      "      macro avg       0.69      0.69      0.69       154\n",
      "   weighted avg       0.74      0.74      0.74       154\n",
      "\n",
      "Accuracy  5  score:  0.7987012987012987\n",
      "                 precision    recall  f1-score   support\n",
      "\n",
      "tested_negative       0.85      0.87      0.86       107\n",
      "tested_positive       0.68      0.64      0.66        47\n",
      "\n",
      "       accuracy                           0.80       154\n",
      "      macro avg       0.76      0.75      0.76       154\n",
      "   weighted avg       0.80      0.80      0.80       154\n",
      "\n",
      "Accuracy  10  score:  0.7792207792207793\n",
      "                 precision    recall  f1-score   support\n",
      "\n",
      "tested_negative       0.80      0.91      0.85       107\n",
      "tested_positive       0.70      0.49      0.57        47\n",
      "\n",
      "       accuracy                           0.78       154\n",
      "      macro avg       0.75      0.70      0.71       154\n",
      "   weighted avg       0.77      0.78      0.77       154\n",
      "\n"
     ]
    }
   ],
   "source": [
    "main()"
   ]
  },
  {
   "cell_type": "markdown",
   "metadata": {},
   "source": [
    "### conclusion\n",
    "\n",
    "> The hightest accurcy is k=1 by 79%"
   ]
  }
 ],
 "metadata": {
  "kernelspec": {
   "display_name": "Python 3",
   "language": "python",
   "name": "python3"
  },
  "language_info": {
   "codemirror_mode": {
    "name": "ipython",
    "version": 3
   },
   "file_extension": ".py",
   "mimetype": "text/x-python",
   "name": "python",
   "nbconvert_exporter": "python",
   "pygments_lexer": "ipython3",
   "version": "3.7.3"
  }
 },
 "nbformat": 4,
 "nbformat_minor": 2
}
